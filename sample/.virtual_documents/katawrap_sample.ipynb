


#ls Test/*.sgf | ./katawrap.py -visits 100 -human_rank rank_1d ../../KataGo/katago analysis -config analysis_example.cfg -model default_model.bin.gz -human-model b18c384nbt-humanv0.bin.gz > results.jsonl




import pandas as pd
import numpy as np
import json





input_file = 'results.jsonl'





df = pd.read_json(input_file, lines=True)





keys = ['sgfFile', 'turnNumber', 'winrate', 'scoreLead']

df[keys]





keys = [k for k in [
    'sgfFile', 'PB', 'PW', 'RE', 'rules', 'komi',
    'turnNumber', 'currentPlayer',
    'winrate', 'scoreLead', 'unsettledness',
    'nextMove', 'nextMoveColor', 'nextMoveSign',
    'nextMoveRank', 'nextWinrateGain', 'nextScoreGain',
] if k in df.keys()]

df[keys]





df.keys()





keys = [
    'sgfFile', 'PB', 'PW', 'turnNumber','nextMove','nextMoveColor',
    'scoreLead', 'nextScoreGain', 'nextWinrateGain',"moveInfos"]
blunders=df[keys]
blunders=blunders.query('nextWinrateGain < -0.1')
blunders=blunders.query('nextScoreGain < -3.0 ')
blunders=blunders.sort_values(["sgfFile","nextScoreGain"])
blunders=blunders.groupby(["sgfFile"]).head(5).reset_index(drop=True)

blunders


df_exploded=blunders.explode('moveInfos')
df_expanded = pd.concat([
    df_exploded.drop('moveInfos', axis=1),
    df_exploded['moveInfos'].apply(pd.Series)
], axis=1)

# Reset the index if needed
df_expanded = df_expanded.reset_index(drop=True)

df_expanded=df_expanded.sort_values(["sgfFile","turnNumber","order"])

df_expanded=df_expanded.groupby(["sgfFile","turnNumber"]).head(1).reset_index(drop=True)

keys=keys = [
    'sgfFile', 'PB', 'PW', 'turnNumber','nextMove','nextMoveColor',
    'scoreLead', 'nextScoreGain', 'nextWinrateGain',"move","pv","prior","humanPrior"]
df_expanded=df_expanded[keys]
df_expanded=df_expanded.query('humanPrior>0.1').reset_index(drop=True)
df_expanded.to_csv("blunders.csv")
df_expanded




